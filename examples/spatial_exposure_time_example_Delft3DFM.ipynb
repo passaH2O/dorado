{
 "cells": [
  {
   "cell_type": "markdown",
   "id": "3d077808-4ffc-4b37-bfba-8feeed1abb87",
   "metadata": {},
   "source": [
    "## Example workflow for spatial exposure time with dorado\n",
    "#### Caitlin R. R. Turner, July 2025"
   ]
  },
  {
   "cell_type": "markdown",
   "id": "6c846b3c-0c0b-4c5a-b4e1-2d61da7850ff",
   "metadata": {},
   "source": [
    "This workbook provides an example workflow for calculating exposure time in two dimensions using walk-data outputs from dorado. To demonstrate this functionality, the workbook walks through calculations of **spatial water exposure time** for the **Lake Pontchartrain Estuary** in Louisiana (USA). \n",
    "\n",
    "To use this notebook, we need `walk_data` and `model_variables` that can be created created using `unstructured_grid_Delft3dFM.ipynb` or can be found [here](https://doi.org/10.4211/hs.2301e151c62d4febb59655885458ab0c) (Turner, 2025) in the folder **D3DFM_example_required_files**. \n",
    "\n",
    "For your own implementation with other models, walk_data, elevation (rasterized), exposure time, and celltype can be created using `dorado.particle_track.py` and `dorado.routimes.py` following the methods of `unstructured_grid_Delft3dFM.ipynb` or `unstructured_grid_anuga.ipynb`. "
   ]
  },
  {
   "cell_type": "markdown",
   "id": "b57bb706-8654-4011-9462-1d3f89549e67",
   "metadata": {},
   "source": [
    "### Import necessary dependencies"
   ]
  },
  {
   "cell_type": "code",
   "execution_count": null,
   "id": "f1a58306-a15c-4eba-9270-5b93b1629ec1",
   "metadata": {},
   "outputs": [],
   "source": [
    "import os\n",
    "import numpy as np\n",
    "import json\n",
    "from pathlib import Path\n",
    "import dorado\n",
    "from matplotlib import pyplot as plt\n",
    "import dorado.spatial as spat"
   ]
  },
  {
   "cell_type": "markdown",
   "id": "90fd4c98-a80d-4599-b347-1b344f3ed2b1",
   "metadata": {},
   "source": [
    "### Set up model names and folders\n",
    "First, we begin by calling the folder where *dorado* outputs and HydroShare files were saved."
   ]
  },
  {
   "cell_type": "code",
   "execution_count": null,
   "id": "4a24308e-70ce-497c-bbf8-8305cd409a69",
   "metadata": {},
   "outputs": [],
   "source": [
    "data_folder = Path(r\"Documents/D3DFM_example_required_files\") # Change to your path\n",
    "model_run = \"run_01\"\n",
    "\n",
    "path2folder = data_folder / model_run\n",
    "path2folder.mkdir(parents=True, exist_ok=True)"
   ]
  },
  {
   "cell_type": "markdown",
   "id": "fa1046bc-082a-4d83-a35a-786b3ec3d90a",
   "metadata": {},
   "source": [
    "### Load Variables\n",
    "\n",
    "Now we load walk data that was output by `dorado.particle_track()` as well as variables that were created while running the Delft3D unstructured grid notebook (unstructured_grid_Delft3dFM.ipynb). These are the rasterized elevation and cell-type versions of these particles.\n",
    "\n",
    "- `walk_data` dictionary of all x and y locations and travel times (`xinds`, `yinds`, `travel_times`) created with `dorado.particle_track.py` and `dorado.routimes.py`\n",
    "- `elevation` terrain or bathymetry grid which is used to define domain shape\n",
    "- `celltype` binary mask that can be created using as a .csv as explained in `unstructured_grid_Delft3dFM.ipynb` that should have the same shape as elevatio (1 = region of interest, 0 = ignore).\n",
    "- `exposure_times` list of floats containing exposure times (output of `dorado.particle_track.exposure_time()`)"
   ]
  },
  {
   "cell_type": "code",
   "execution_count": null,
   "id": "13a1d6ec-a0c0-474a-b8d3-ab611f512de9",
   "metadata": {},
   "outputs": [],
   "source": [
    "with open(data_folder / f'WalkData_{model_run}.txt', 'r') as f:\n",
    "    walk_data = json.load(f)\n",
    "model_variables = np.load(data_folder / 'unstructured_model_Delft3DFM_variables_{model_run}.npz')\n",
    "elevation = model_variables['elevation']\n",
    "celltype = model_variables['celltype']\n",
    "exposure_times = model_variables['exposure_times']"
   ]
  },
  {
   "cell_type": "markdown",
   "id": "6c30b5a8-5923-4693-bd39-3ed9334b9e11",
   "metadata": {},
   "source": [
    "If you recall, exposure time calculates the amount of time it takes for particles to leave a region of interest (ROI), including excursions. To visualize this, we are going to look at a familar plot, the Cumulative Exposure Time Distribution.\n",
    "\n",
    "We are going to make an addition to show the time it takes for particles to reach the following three thresholds:\n",
    "- $E_{50}$: the time it takes for 50% of particles to leave the ROI\n",
    "- $E_{75}$: the time it takes for 75% of particles to leave the ROI\n",
    "- $E_{90}$: the time it takes for 90% of particles to leave the ROI\n"
   ]
  },
  {
   "cell_type": "code",
   "execution_count": null,
   "id": "62c920d4-2118-4c05-9b33-b83ddfc8175c",
   "metadata": {},
   "outputs": [],
   "source": [
    "timedelta = 86400 # timestep of random walk in seconds\n",
    "exposure_times_plot = dorado.routines.plot_exposure_time_thresholds(walk_data, \n",
    "                                                         exposure_times,\n",
    "                                                         f'{path2folder}/{model_run}/figs',\n",
    "                                                         timedelta=timedelta, # timestep for model in seconds (1 day = 86400 seconds)\n",
    "                                                         nbins=10, # Binning for CDF exposure time\n",
    "                                                         uniform_timesteps = True) # This should be toggled to 'True' when the process used in this\n",
    "                                                                                   # notebook for unsteady data is used. Only toggle this if exposure\n",
    "                                                                                   # timesteps were discretely assigned. Otherwise use default (False)."
   ]
  },
  {
   "cell_type": "markdown",
   "id": "e229df12-087e-43fa-a7d7-466e5f7efe80",
   "metadata": {},
   "source": [
    "We see that it takes 17 days to reach $E_{50}$, 20 days to reach $E_{75}$, and 24 days to reach $E_{90}$. "
   ]
  },
  {
   "cell_type": "markdown",
   "id": "dc4ee9c5-4d1b-409c-95fe-fbca9bfcc0c7",
   "metadata": {},
   "source": [
    "## System-Wide Exposure Time\n",
    "Now that we know the exposure time for all of Lake Pontchartrain as one region of interest (ROI), we want to find how this varies spatially throughout the system. We can do this by creating a grid over all of Lake Pontchartrain (chunks) and finding $E_{50}$, $E_{75}$, and $E_{90}$ the exposure time for particles that began in these chunks, which we call system-wide exposure time. \n",
    "\n",
    "System-wide exposure time, shown by the schematic in Figure 1, is the cumulative amount of time it takes for a particle in one `chunk` of Lake Pontchartrain to exit the sytem, which we define by:\n",
    "- `initial particle locations` defines the starting location of particles, which are the chunks in this example\n",
    "- `region of interest (ROI)` where we are adding up particle exposure time, in this instance, Lake Pontchartrain\n",
    "\n",
    "<center><figure>\n",
    "<img src=\"schematic_transport_times_system-wide.png\" class=\"bg-primary mb-1\" width=\"500px\", align = \"center\">\n",
    "<figcaption align = \"center\"> Figure 1. System-wide exposure time schematic. </figcaption>\n",
    "</figure><center>\n"
   ]
  },
  {
   "cell_type": "markdown",
   "id": "9e76d08d-e635-4c8c-a5b2-99cfb0d87f0d",
   "metadata": {},
   "source": [
    "#### Resolution Factor\n",
    "To find system-wide exposure time, we first need to create these chunks. Finding the exposure time for each rasterized cell is computationally expensive, therefore, we want to provide a `resolution_factor`, which is how much we want to rasterize by. For this example, our grid has 795 columns and 429 rows (795, 429), which would take a long time to run! Our `resolution_factor` reduces the size of each grid. \n",
    "\n",
    "Let's say our resolution factor is 60 (`resolution_factor = 60`). This means that each chunk has $60$ **x** $60$ cells, with the exception of the last row and column, which may have less if the actual grid resolution is not divisible by this factor. Keep this in mind when interpreting figures. For this model, the truncated row and column are outside of the (ROI), so it does not impact our results or interpretations.  "
   ]
  },
  {
   "cell_type": "code",
   "execution_count": null,
   "id": "29b9efa7-f2d8-4abf-a6a0-6a542d5b0982",
   "metadata": {},
   "outputs": [],
   "source": [
    "resolution_factor = 60\n",
    "rows, cols = elevation.shape\n",
    "print(f'Original grid Size: ({cols + 1}, {rows + 1})') # 1 is added due to give accurate dimensions (a product of zero indexing)\n",
    "n_chunks_rows = rows // resolution_factor\n",
    "n_chunks_cols = cols // resolution_factor\n",
    "print(f'Rasterized grid Size: ({n_chunks_cols + 1}, {n_chunks_rows + 1})') # 1 is added due to give accurate dimensions (a product of zero indexing)\n",
    "\n",
    "# Figure to Visualize\n",
    "fig, ax = plt.subplots(figsize=(6, 4), dpi=300)\n",
    "cax = ax.imshow(elevation, vmin=-10, vmax=0, cmap='viridis')\n",
    "cbar = fig.colorbar(cax, ax=ax, label='Depth (m)', shrink=0.65)\n",
    "cbar.ax.set_ylabel('Depth (m)', fontsize=12)\n",
    "cbar.set_ticks([0, -5, -10])\n",
    "cbar.set_ticklabels(['0', '5', '10'])\n",
    "ax.set_xlabel('Longitude Index', fontsize=12)\n",
    "ax.set_ylabel('Latitude Index', fontsize=12)\n",
    "ax.set_facecolor('whitesmoke')\n",
    "for y in range(0, rows, resolution_factor):\n",
    "    ax.axhline(y - 0.5, color='black', linewidth=0.5)\n",
    "for x in range(0, cols, resolution_factor):\n",
    "    ax.axvline(x - 0.5, color='black', linewidth=0.5)\n",
    "plt.tight_layout()\n",
    "plt.show()\n"
   ]
  },
  {
   "cell_type": "markdown",
   "id": "5f09773b-573d-4331-91f8-23b9fbf74d3b",
   "metadata": {},
   "source": [
    "We had an original grid size with 795 columns and 429 rows that we reduced to 14 columns and 8 rows.\n",
    "\n",
    "These chunks are a little large, let's try a finer resolution. To do this, we want to decrease the resolution factor.\n",
    "Let's try a resolution factor of 30 (`resolution_factor = 30`). "
   ]
  },
  {
   "cell_type": "code",
   "execution_count": null,
   "id": "c1d58583-ed3b-46ab-bbfd-81ee8a001045",
   "metadata": {},
   "outputs": [],
   "source": [
    "resolution_factor = 20\n",
    "rows, cols = elevation.shape\n",
    "print(f'Original grid Size: ({cols + 1}, {rows + 1})') # 1 is added due to give accurate dimensions (a product of zero indexing)\n",
    "n_chunks_rows = rows // resolution_factor\n",
    "n_chunks_cols = cols // resolution_factor\n",
    "print(f'Rasterized grid Size: ({n_chunks_cols}, {n_chunks_rows})') # 1 is added due to give accurate dimensions (a product of zero indexing)\n",
    "\n",
    "# Figure to Visualize\n",
    "fig, ax = plt.subplots(figsize=(6, 4), dpi=300)\n",
    "cax = ax.imshow(elevation, vmin=-10, vmax=0, cmap='viridis')\n",
    "cbar = fig.colorbar(cax, ax=ax, label='Depth (m)', shrink=0.65)\n",
    "cbar.ax.set_ylabel('Depth (m)', fontsize=12)\n",
    "cbar.set_ticks([0, -5, -10])\n",
    "cbar.set_ticklabels(['0', '5', '10'])\n",
    "ax.set_xlabel('Longitude Index', fontsize=12)\n",
    "ax.set_ylabel('Latitude Index', fontsize=12)\n",
    "ax.set_facecolor('whitesmoke')\n",
    "for y in range(0, rows, resolution_factor):\n",
    "    ax.axhline(y - 0.5, color='black', linewidth=0.5)\n",
    "for x in range(0, cols, resolution_factor):\n",
    "    ax.axvline(x - 0.5, color='black', linewidth=0.5)\n",
    "plt.tight_layout()\n",
    "plt.show()\n"
   ]
  },
  {
   "cell_type": "markdown",
   "id": "79452edf-e795-4df1-8005-decd43ba7ca4",
   "metadata": {},
   "source": [
    "We have a an origional grid size with 795 columns and 429 rows that we reduced to 26 columns and 14 rows. This is a lot finer and will help us capture spatial variablility."
   ]
  },
  {
   "cell_type": "markdown",
   "id": "56817cae-8943-477e-900a-cedd27ec78b9",
   "metadata": {},
   "source": [
    "#### System-wide Exposure Time Calculation\n",
    "Now that we have the resolution we desire, we are going to calcuate system-wide exposure time. We need the imput the following variables:\n",
    "`walk_data`, `elevation`, `celltype`, and `resolution_factor`.\n",
    "\n",
    "This function `dorado.spatial.systemwide()` which identifies particles began in each chunk, and tracks them until they leave Lake Pontchartrain (ROI) using `dorado.particle_track.exposure_time()`. This returns a list of exposure times for each particle that began in that chunk."
   ]
  },
  {
   "cell_type": "code",
   "execution_count": null,
   "id": "73575894-5ed3-4b79-9342-421a2724f598",
   "metadata": {},
   "outputs": [],
   "source": [
    "systemwide_exposure = spat.systemwide(walk_data, elevation, celltype, resolution_factor = resolution_factor)"
   ]
  },
  {
   "cell_type": "markdown",
   "id": "e9744090-a84d-4d2d-9b7b-af8d0739ce2c",
   "metadata": {},
   "source": [
    "Now that we have a list of exposure times for particles in each chunk, we want to find how long it takes for particles to reach our three thresholds ($E_{50}$, $E_{75}$, $E_{90}$). The function `dorado.spatial.compute_thresholds()` calculates these thresholds, then puts them into a gridded array to match the shape of `elevation` file, creating a spatial map. \n",
    "\n",
    "We are going to smooth out this spatial map using a Mean Average Deviation filter.\n",
    "\n",
    "We need to define two variables:\n",
    "- `Window Size` Number of adjacent gridcells used to smooth data\n",
    "- `Threshold` Number of gridcells used to supress outliers\n",
    "\n",
    "Additionally, we input `exposure_data`, `elevation`, `timedelta`, and `resolution_factor`, which will output three 2D arrays of exposure time data for our thresholds: `E50_sys`, `E75_sys`, and `E90_sys`."
   ]
  },
  {
   "cell_type": "code",
   "execution_count": null,
   "id": "a1a178b6-d85a-48b2-9c3d-cfd2881981f0",
   "metadata": {},
   "outputs": [],
   "source": [
    "window_size = 5\n",
    "threshold = 5"
   ]
  },
  {
   "cell_type": "code",
   "execution_count": null,
   "id": "c1ac9841-40e7-438e-a5b4-938fd4e01c50",
   "metadata": {},
   "outputs": [],
   "source": [
    "E50_sys, E75_sys, E90_sys = spat.compute_thresholds(\n",
    "    exposure_data=systemwide_exposure,\n",
    "    elevation=elevation,\n",
    "    timedelta=timedelta,\n",
    "    resolution_factor=resolution_factor,\n",
    "    window_size=window_size,\n",
    "    threshold=threshold)"
   ]
  },
  {
   "cell_type": "markdown",
   "id": "0cdd06f4-f6fc-47f6-a430-c1b3ce95c349",
   "metadata": {},
   "source": [
    "#### System-wide Exposure Time Figure\n",
    "Now that we have our three spatial arrays, we are going to plot them. Here we are going to define a few variables:\n",
    "- `title` the label on the colorbar\n",
    "- `cmap` the colormap we want to use. In this example, we use a matplotlib colormap; however, [cmocean](https://matplotlib.org/cmocean/) is another colorbar that is great for this application.\n",
    "- `max_exposure` the maximum time we want the colorbar to go to. For system-wide exposure time, your maximum model time is a good starting point. For this example, the maximum possible exposure time is 30 days (the timeframe of the model).\n",
    "- `cbar_levels` the number of levels we want to split the colorbar by."
   ]
  },
  {
   "cell_type": "code",
   "execution_count": null,
   "id": "98de2022-6d24-4dfe-a388-847acfba63b7",
   "metadata": {},
   "outputs": [],
   "source": [
    "title = 'System-wide exposure time (days)'\n",
    "cmap = plt.get_cmap('plasma_r')\n",
    "max_exposure = 30 # max time in model\n",
    "cbar_levels = 7"
   ]
  },
  {
   "cell_type": "markdown",
   "id": "562b0442-498e-4cb9-a32a-3017e35d879f",
   "metadata": {},
   "source": [
    "In addition to these variables, we will enter `E50_sys`, `E75_sys`, `E90_sys`, and `elevation`."
   ]
  },
  {
   "cell_type": "code",
   "execution_count": null,
   "id": "c8204510-e80f-4b6c-b0ed-78fe4962301a",
   "metadata": {},
   "outputs": [],
   "source": [
    "spat.plot_spatial(\n",
    "    exposure_maps=[E50_sys, E75_sys, E90_sys],\n",
    "    elevation=elevation,\n",
    "    max_exposure=max_exposure,\n",
    "    cbar_levels=cbar_levels,\n",
    "    cmap=cmap,\n",
    "    title=title)\n"
   ]
  },
  {
   "cell_type": "markdown",
   "id": "5d530610-cdbf-4b21-9d9d-500f9c3874f0",
   "metadata": {},
   "source": [
    "This figure shows longer exposure times furthest from the ocean boundary, which is what we would expect!\n",
    "\n",
    "We are able to see how long it takes for water from exit the system from different locations. What if we want to see how long water starting in one of those locations, remains in that location? We call this `localized exposure time`."
   ]
  },
  {
   "cell_type": "markdown",
   "id": "72f34fab-4e28-4a6d-9294-da4addd1c56a",
   "metadata": {},
   "source": [
    "## Localized Exposure Time\n",
    "Localized exposure time, shown by the schematic in Figure 2, is the cumulative amount of time it takes for a particle in one `chunk` of Lake Pontchartrain to exit the sytem, which we define by:\n",
    "- `initial particle locations` defines the starting location of particles, which are the chunks in this example\n",
    "- `region of interest (ROI)` where we are adding up particle exposure time, in this instance, we are using those same chunks\n",
    "\n",
    "This helps us quanitfy how long particles may remain in one particular area.\n",
    "\n",
    "<center><figure>\n",
    "<img src=\"schematic_transport_times_localized.png\" class=\"bg-primary mb-1\" width=\"500px\", align = \"center\">\n",
    "<figcaption align = \"center\"> Figure 2. Localized exposure time schematic. </figcaption>\n",
    "</figure><center>"
   ]
  },
  {
   "cell_type": "markdown",
   "id": "a0f1dde8-5224-4342-869a-9bf5743a550d",
   "metadata": {},
   "source": [
    "#### Resolution Factor and Localized Exposure Time Calculation\n",
    "Here we are keeping the same `resolution_factor` that we used for system-wide exposure time."
   ]
  },
  {
   "cell_type": "code",
   "execution_count": null,
   "id": "415d22b9-fc6a-4be8-8b01-4a51e8e9ac6d",
   "metadata": {},
   "outputs": [],
   "source": [
    "localized_exposure = spat.localized(walk_data, elevation, celltype, resolution_factor = resolution_factor)"
   ]
  },
  {
   "cell_type": "markdown",
   "id": "a7339bf8-a3b1-4b02-a26c-ac1b6c434bc7",
   "metadata": {},
   "source": [
    "We are keeping the same smoothing parameters, but if you would like to change them, we can redefine them here."
   ]
  },
  {
   "cell_type": "code",
   "execution_count": null,
   "id": "bd04898d-1485-4eb1-b2e4-aebc636627cf",
   "metadata": {},
   "outputs": [],
   "source": [
    "window_size = 5\n",
    "threshold = 5"
   ]
  },
  {
   "cell_type": "code",
   "execution_count": null,
   "id": "bb7750b2-d9d6-4e38-9937-18c31e8ea85f",
   "metadata": {},
   "outputs": [],
   "source": [
    "E50_local, E75_local, E90_local = spat.compute_thresholds(\n",
    "    exposure_data=localized_exposure,\n",
    "    elevation=elevation,\n",
    "    timedelta=timedelta,\n",
    "    resolution_factor=resolution_factor,\n",
    "    window_size=window_size,\n",
    "    threshold=threshold)"
   ]
  },
  {
   "cell_type": "markdown",
   "id": "1ec7023c-8be5-4e78-9310-ad74dfebf611",
   "metadata": {},
   "source": [
    "#### Localized Exposure Time Figure\n",
    "In previous studies using this method, localized exposure times were smaller than system-wide, therefore, we can change the max exposure times for our colorbar. This makes it easy to test different numbers to see what best displays our data."
   ]
  },
  {
   "cell_type": "code",
   "execution_count": null,
   "id": "4f09e331-308f-40d4-98b1-66bd9df84f7e",
   "metadata": {},
   "outputs": [],
   "source": [
    "title_local = 'Localized exposure time (days)'\n",
    "cmap_local = plt.get_cmap('viridis_r')\n",
    "max_exposure_local = 7\n",
    "cbar_levels_local = 6"
   ]
  },
  {
   "cell_type": "code",
   "execution_count": null,
   "id": "0bbb4dda-7dfd-4bcf-8e02-91c76c28dcc5",
   "metadata": {},
   "outputs": [],
   "source": [
    "spat.plot_spatial(\n",
    "    exposure_maps=[E50_local, E75_local, E90_local],\n",
    "    elevation=elevation,\n",
    "    max_exposure=max_exposure_local,\n",
    "    cbar_levels=cbar_levels_local,\n",
    "    cmap=cmap_local,\n",
    "    title=title_local)"
   ]
  },
  {
   "cell_type": "markdown",
   "id": "1d7bd68b-a627-411b-a9a8-14df0ec9cfcd",
   "metadata": {
    "collapsed": true,
    "jupyter": {
     "outputs_hidden": true
    }
   },
   "source": [
    "As you can see, our exposure time values are much lower than system-wide. This makes sense! Localized exposure times should be lower, as we are only quantifying how long these particles remain in these chunks.\n",
    "Additioanlly, we are seeing zones of increased exposure time, essentailly, areas where localized flows trapped particles. \n",
    "\n",
    "If you have any questions or need help with implementation to your model, please do not hesitate to contact Caitlin R. R. Turner at cturn65@lsu.edu "
   ]
  },
  {
   "cell_type": "markdown",
   "id": "68e34fc2-bb41-4f97-88bb-aae237a99f43",
   "metadata": {},
   "source": [
    "#### **Cited**:\n",
    "Turner, C. R. R. (2025). Lake Pontchartrain Toy Model, HydroShare, https://doi.org/10.4211/hs.2301e151c62d4febb59655885458ab0c\n",
    "\n",
    "Turner, C. R. R., & Hiatt, M. (2025a). Water exposure time distributions controlled by freshwater releases in a semi-enclosed estuary. Water Resources Research, 61 (7), e2025WR040287, https://doi.org/10.1029/2025WR040287\n",
    "\n",
    "Turner, C. R. R., & Hiatt, M. (2025b). Water exposure time distributions controlled by freshwater releases in a semi-enclosed estuary published in water resources research wrr 2025 data [Dataset]. Hydroshare. https://doi:10.4211/hs.f1c83ff830bb47c5a7c84e6f5217ea5c"
   ]
  },
  {
   "cell_type": "markdown",
   "id": "bc5bb6a7-5572-430f-acdc-dcb372170f06",
   "metadata": {},
   "source": [
    "#### **Acknowledgments:**\n",
    "This work has been partially supported with funding provided by the Louisiana Sea Grant College Program (LSG) under its Competitive Research Program (Project ID: R/TMA-03) and NOAA Award No. NA18OAR4170098, and through the US Department of Defense/Army Engineer Research and Development Center (ERDC) under Contract No. W912HZ2220005. Additional support was provided from the National Science Foundation (NSF) through Open Earthscape (Collaborative Research: Frameworks: OpenEarthscape - Transformative Cyberinfrastructure for Modeling and Simulation in the Earth-Surface Science Communities) under its Summer Research Scholars Program under award No. 2104102."
   ]
  }
 ],
 "metadata": {
  "kernelspec": {
   "display_name": "Python 3 (ipykernel)",
   "language": "python",
   "name": "python3"
  },
  "language_info": {
   "codemirror_mode": {
    "name": "ipython",
    "version": 3
   },
   "file_extension": ".py",
   "mimetype": "text/x-python",
   "name": "python",
   "nbconvert_exporter": "python",
   "pygments_lexer": "ipython3",
   "version": "3.12.11"
  }
 },
 "nbformat": 4,
 "nbformat_minor": 5
}
